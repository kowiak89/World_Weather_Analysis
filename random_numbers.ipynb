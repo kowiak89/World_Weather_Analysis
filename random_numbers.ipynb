{
 "cells": [
  {
   "cell_type": "code",
   "execution_count": 25,
   "id": "50eae5a3",
   "metadata": {},
   "outputs": [],
   "source": [
    "# Import the random module.\n",
    "import random\n",
    "\n",
    "# Import the NumPy module.\n",
    "import numpy as np\n",
    "\n",
    "# Import timeit.\n",
    "import timeit"
   ]
  },
  {
   "cell_type": "code",
   "execution_count": 26,
   "id": "cbd06f8f",
   "metadata": {},
   "outputs": [
    {
     "data": {
      "text/plain": [
       "-6"
      ]
     },
     "execution_count": 26,
     "metadata": {},
     "output_type": "execute_result"
    }
   ],
   "source": [
    "random.randint(-90, 90)"
   ]
  },
  {
   "cell_type": "code",
   "execution_count": 27,
   "id": "9c66e6d9",
   "metadata": {},
   "outputs": [
    {
     "data": {
      "text/plain": [
       "0.6767172855890512"
      ]
     },
     "execution_count": 27,
     "metadata": {},
     "output_type": "execute_result"
    }
   ],
   "source": [
    "random.random()"
   ]
  },
  {
   "cell_type": "code",
   "execution_count": 28,
   "id": "fdfd0fd6",
   "metadata": {},
   "outputs": [
    {
     "data": {
      "text/plain": [
       "61.053362498557995"
      ]
     },
     "execution_count": 28,
     "metadata": {},
     "output_type": "execute_result"
    }
   ],
   "source": [
    "random_number = random.randint(-90,90) + random.random()\n",
    "random_number"
   ]
  },
  {
   "cell_type": "code",
   "execution_count": 29,
   "id": "6be28b57",
   "metadata": {},
   "outputs": [
    {
     "data": {
      "text/plain": [
       "[49.49602385917718,\n",
       " 4.087191008390417,\n",
       " 57.65663134133785,\n",
       " 4.304474485386334,\n",
       " 51.15812332786196,\n",
       " 52.2770444240679,\n",
       " -88.88779703247177,\n",
       " 77.42462756158893,\n",
       " -70.23243915846639,\n",
       " -1.6093680729735689,\n",
       " -67.10875085699328]"
      ]
     },
     "execution_count": 29,
     "metadata": {},
     "output_type": "execute_result"
    }
   ],
   "source": [
    "# Make a series of random latitudes\n",
    "\n",
    "# Set the initial conditions:\n",
    "latitudes = []\n",
    "x = 0\n",
    "\n",
    "# Create a loop to geneerate 10 random lats\n",
    "while x < 11:\n",
    "    random_lat = random.randint(-90,89) + random.random()\n",
    "    latitudes.append(random_lat)\n",
    "    x += 1\n",
    "\n",
    "latitudes"
   ]
  },
  {
   "cell_type": "code",
   "execution_count": 30,
   "id": "12435c56",
   "metadata": {},
   "outputs": [
    {
     "data": {
      "text/plain": [
       "[-100.0718777103695,\n",
       " -118.90550421600494,\n",
       " 6.239553875289655,\n",
       " -24.327398516342676,\n",
       " -15.840415097109048,\n",
       " -46.54645764211722,\n",
       " 57.69786124611381,\n",
       " 109.19293466097676,\n",
       " -67.51011492842426,\n",
       " -139.22585666756774,\n",
       " 84.90458432425196]"
      ]
     },
     "execution_count": 30,
     "metadata": {},
     "output_type": "execute_result"
    }
   ],
   "source": [
    "# Make a series of 10 random longitudes\n",
    "\n",
    "# Set the initial conditions:\n",
    "longitudes = []\n",
    "y = 0\n",
    "\n",
    "# Create a loop to generate 10 random longitudes\n",
    "while y < 11:\n",
    "    random_long = random.randint(-180, 189) + random.random()\n",
    "    longitudes.append(random_long)\n",
    "    y += 1\n",
    "    \n",
    "longitudes"
   ]
  },
  {
   "cell_type": "code",
   "execution_count": 33,
   "id": "f71269e6",
   "metadata": {},
   "outputs": [
    {
     "name": "stdout",
     "output_type": "stream",
     "text": [
      "21.2 µs ± 896 ns per loop (mean ± std. dev. of 7 runs, 10000 loops each)\n"
     ]
    }
   ],
   "source": [
    "%timeit np.random.uniform(-90.000, 90.000, size=1500)"
   ]
  },
  {
   "cell_type": "code",
   "execution_count": 34,
   "id": "4acd5e5d",
   "metadata": {},
   "outputs": [
    {
     "name": "stdout",
     "output_type": "stream",
     "text": [
      "3.11 ms ± 149 µs per loop (mean ± std. dev. of 7 runs, 100 loops each)\n"
     ]
    }
   ],
   "source": [
    "# Define a function called latitudes that calculates a number of random lats = to the size entered\n",
    "def latitudes(size):\n",
    "    latitudes = []\n",
    "    x = 0\n",
    "    while x < (size):\n",
    "        random_lat = random.randint(-90, 90) + random.random()\n",
    "        latitudes.append(random_lat)\n",
    "        x += 1\n",
    "    return latitudes\n",
    "\n",
    "# Call the function with 1500.\n",
    "%timeit latitudes(1500)"
   ]
  },
  {
   "cell_type": "code",
   "execution_count": null,
   "id": "fd525f15",
   "metadata": {},
   "outputs": [],
   "source": []
  }
 ],
 "metadata": {
  "kernelspec": {
   "display_name": "PythonData",
   "language": "python",
   "name": "pythondata"
  },
  "language_info": {
   "codemirror_mode": {
    "name": "ipython",
    "version": 3
   },
   "file_extension": ".py",
   "mimetype": "text/x-python",
   "name": "python",
   "nbconvert_exporter": "python",
   "pygments_lexer": "ipython3",
   "version": "3.7.10"
  }
 },
 "nbformat": 4,
 "nbformat_minor": 5
}
