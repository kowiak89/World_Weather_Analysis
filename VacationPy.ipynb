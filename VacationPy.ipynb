{
 "cells": [
  {
   "cell_type": "code",
   "execution_count": 15,
   "id": "977b384c",
   "metadata": {},
   "outputs": [],
   "source": [
    "# Import the dependencies.\n",
    "import pandas as pd\n",
    "import gmaps\n",
    "import requests\n",
    "# Import the API key.\n",
    "from config import g_key"
   ]
  },
  {
   "cell_type": "code",
   "execution_count": 16,
   "id": "149875a3",
   "metadata": {},
   "outputs": [
    {
     "data": {
      "text/html": [
       "<div>\n",
       "<style scoped>\n",
       "    .dataframe tbody tr th:only-of-type {\n",
       "        vertical-align: middle;\n",
       "    }\n",
       "\n",
       "    .dataframe tbody tr th {\n",
       "        vertical-align: top;\n",
       "    }\n",
       "\n",
       "    .dataframe thead th {\n",
       "        text-align: right;\n",
       "    }\n",
       "</style>\n",
       "<table border=\"1\" class=\"dataframe\">\n",
       "  <thead>\n",
       "    <tr style=\"text-align: right;\">\n",
       "      <th></th>\n",
       "      <th>City_ID</th>\n",
       "      <th>City</th>\n",
       "      <th>Lat</th>\n",
       "      <th>Lng</th>\n",
       "      <th>Max Temp</th>\n",
       "      <th>Humidity</th>\n",
       "      <th>Cloudiness</th>\n",
       "      <th>Wind Speed</th>\n",
       "      <th>Country</th>\n",
       "      <th>Date</th>\n",
       "    </tr>\n",
       "  </thead>\n",
       "  <tbody>\n",
       "    <tr>\n",
       "      <th>0</th>\n",
       "      <td>0</td>\n",
       "      <td>North Bend</td>\n",
       "      <td>43.4065</td>\n",
       "      <td>-124.2243</td>\n",
       "      <td>58.91</td>\n",
       "      <td>97</td>\n",
       "      <td>90</td>\n",
       "      <td>4.61</td>\n",
       "      <td>US</td>\n",
       "      <td>2021-08-05 14:29:17</td>\n",
       "    </tr>\n",
       "    <tr>\n",
       "      <th>1</th>\n",
       "      <td>1</td>\n",
       "      <td>Fairbanks</td>\n",
       "      <td>64.8378</td>\n",
       "      <td>-147.7164</td>\n",
       "      <td>60.76</td>\n",
       "      <td>75</td>\n",
       "      <td>1</td>\n",
       "      <td>8.05</td>\n",
       "      <td>US</td>\n",
       "      <td>2021-08-05 14:25:05</td>\n",
       "    </tr>\n",
       "    <tr>\n",
       "      <th>2</th>\n",
       "      <td>2</td>\n",
       "      <td>Cape Town</td>\n",
       "      <td>-33.9258</td>\n",
       "      <td>18.4232</td>\n",
       "      <td>66.11</td>\n",
       "      <td>66</td>\n",
       "      <td>20</td>\n",
       "      <td>1.99</td>\n",
       "      <td>ZA</td>\n",
       "      <td>2021-08-05 14:29:18</td>\n",
       "    </tr>\n",
       "    <tr>\n",
       "      <th>3</th>\n",
       "      <td>3</td>\n",
       "      <td>Ushuaia</td>\n",
       "      <td>-54.8000</td>\n",
       "      <td>-68.3000</td>\n",
       "      <td>49.62</td>\n",
       "      <td>61</td>\n",
       "      <td>0</td>\n",
       "      <td>4.61</td>\n",
       "      <td>AR</td>\n",
       "      <td>2021-08-05 14:29:18</td>\n",
       "    </tr>\n",
       "    <tr>\n",
       "      <th>4</th>\n",
       "      <td>4</td>\n",
       "      <td>Hobart</td>\n",
       "      <td>-42.8794</td>\n",
       "      <td>147.3294</td>\n",
       "      <td>53.46</td>\n",
       "      <td>64</td>\n",
       "      <td>98</td>\n",
       "      <td>4.00</td>\n",
       "      <td>AU</td>\n",
       "      <td>2021-08-05 14:29:19</td>\n",
       "    </tr>\n",
       "  </tbody>\n",
       "</table>\n",
       "</div>"
      ],
      "text/plain": [
       "   City_ID        City      Lat       Lng  Max Temp  Humidity  Cloudiness  \\\n",
       "0        0  North Bend  43.4065 -124.2243     58.91        97          90   \n",
       "1        1   Fairbanks  64.8378 -147.7164     60.76        75           1   \n",
       "2        2   Cape Town -33.9258   18.4232     66.11        66          20   \n",
       "3        3     Ushuaia -54.8000  -68.3000     49.62        61           0   \n",
       "4        4      Hobart -42.8794  147.3294     53.46        64          98   \n",
       "\n",
       "   Wind Speed Country                 Date  \n",
       "0        4.61      US  2021-08-05 14:29:17  \n",
       "1        8.05      US  2021-08-05 14:25:05  \n",
       "2        1.99      ZA  2021-08-05 14:29:18  \n",
       "3        4.61      AR  2021-08-05 14:29:18  \n",
       "4        4.00      AU  2021-08-05 14:29:19  "
      ]
     },
     "execution_count": 16,
     "metadata": {},
     "output_type": "execute_result"
    }
   ],
   "source": [
    "# Store the CSV you saved created in part one into a DataFrame.\n",
    "city_data_df = pd.read_csv(\"weather_data/cities.csv\")\n",
    "city_data_df.head()"
   ]
  },
  {
   "cell_type": "code",
   "execution_count": 17,
   "id": "520248f5",
   "metadata": {},
   "outputs": [],
   "source": [
    "# Configure gmaps to use your Google API key.\n",
    "gmaps.configure(api_key=g_key)"
   ]
  },
  {
   "cell_type": "code",
   "execution_count": 27,
   "id": "007c72ee",
   "metadata": {},
   "outputs": [
    {
     "data": {
      "text/html": [
       "<div>\n",
       "<style scoped>\n",
       "    .dataframe tbody tr th:only-of-type {\n",
       "        vertical-align: middle;\n",
       "    }\n",
       "\n",
       "    .dataframe tbody tr th {\n",
       "        vertical-align: top;\n",
       "    }\n",
       "\n",
       "    .dataframe thead th {\n",
       "        text-align: right;\n",
       "    }\n",
       "</style>\n",
       "<table border=\"1\" class=\"dataframe\">\n",
       "  <thead>\n",
       "    <tr style=\"text-align: right;\">\n",
       "      <th></th>\n",
       "      <th>City_ID</th>\n",
       "      <th>City</th>\n",
       "      <th>Lat</th>\n",
       "      <th>Lng</th>\n",
       "      <th>Max Temp</th>\n",
       "      <th>Humidity</th>\n",
       "      <th>Cloudiness</th>\n",
       "      <th>Wind Speed</th>\n",
       "      <th>Country</th>\n",
       "      <th>Date</th>\n",
       "    </tr>\n",
       "  </thead>\n",
       "  <tbody>\n",
       "    <tr>\n",
       "      <th>1</th>\n",
       "      <td>1</td>\n",
       "      <td>Fairbanks</td>\n",
       "      <td>64.8378</td>\n",
       "      <td>-147.7164</td>\n",
       "      <td>60.76</td>\n",
       "      <td>75</td>\n",
       "      <td>1</td>\n",
       "      <td>8.05</td>\n",
       "      <td>US</td>\n",
       "      <td>2021-08-05 14:25:05</td>\n",
       "    </tr>\n",
       "    <tr>\n",
       "      <th>380</th>\n",
       "      <td>380</td>\n",
       "      <td>Pacific Grove</td>\n",
       "      <td>36.6177</td>\n",
       "      <td>-121.9166</td>\n",
       "      <td>60.76</td>\n",
       "      <td>94</td>\n",
       "      <td>90</td>\n",
       "      <td>4.00</td>\n",
       "      <td>US</td>\n",
       "      <td>2021-08-05 14:32:11</td>\n",
       "    </tr>\n",
       "  </tbody>\n",
       "</table>\n",
       "</div>"
      ],
      "text/plain": [
       "     City_ID           City      Lat       Lng  Max Temp  Humidity  \\\n",
       "1          1      Fairbanks  64.8378 -147.7164     60.76        75   \n",
       "380      380  Pacific Grove  36.6177 -121.9166     60.76        94   \n",
       "\n",
       "     Cloudiness  Wind Speed Country                 Date  \n",
       "1             1        8.05      US  2021-08-05 14:25:05  \n",
       "380          90        4.00      US  2021-08-05 14:32:11  "
      ]
     },
     "execution_count": 27,
     "metadata": {},
     "output_type": "execute_result"
    }
   ],
   "source": [
    "city_data_df[city_data_df['Max Temp'] ==60.76].head()"
   ]
  },
  {
   "cell_type": "code",
   "execution_count": 18,
   "id": "6e058291",
   "metadata": {},
   "outputs": [
    {
     "data": {
      "application/vnd.jupyter.widget-view+json": {
       "model_id": "0231942b938c43bdaa6b9a440e7d66e0",
       "version_major": 2,
       "version_minor": 0
      },
      "text/plain": [
       "Figure(layout=FigureLayout(height='420px'))"
      ]
     },
     "metadata": {},
     "output_type": "display_data"
    }
   ],
   "source": [
    "# Heatmap of temperature\n",
    "# Get the latitude and longitude.\n",
    "locations = city_data_df[[\"Lat\", \"Lng\"]]\n",
    "# Get the maximum temperature.\n",
    "max_temp = city_data_df[\"Max Temp\"]\n",
    "# Assign the figure variable.\n",
    "fig = gmaps.figure()\n",
    "# Assign the heatmap variable.\n",
    "heat_layer = gmaps.heatmap_layer(locations, weights=max_temp)\n",
    "# Add the heatmap layer.\n",
    "fig.add_layer(heat_layer)\n",
    "# Call the figure to plot the data.\n",
    "fig"
   ]
  },
  {
   "cell_type": "code",
   "execution_count": null,
   "id": "9b4a0959",
   "metadata": {},
   "outputs": [],
   "source": []
  },
  {
   "cell_type": "code",
   "execution_count": null,
   "id": "3aff2d30",
   "metadata": {},
   "outputs": [],
   "source": []
  },
  {
   "cell_type": "code",
   "execution_count": null,
   "id": "7e001ce8",
   "metadata": {},
   "outputs": [],
   "source": []
  }
 ],
 "metadata": {
  "kernelspec": {
   "display_name": "PythonData",
   "language": "python",
   "name": "pythondata"
  },
  "language_info": {
   "codemirror_mode": {
    "name": "ipython",
    "version": 3
   },
   "file_extension": ".py",
   "mimetype": "text/x-python",
   "name": "python",
   "nbconvert_exporter": "python",
   "pygments_lexer": "ipython3",
   "version": "3.7.10"
  }
 },
 "nbformat": 4,
 "nbformat_minor": 5
}
